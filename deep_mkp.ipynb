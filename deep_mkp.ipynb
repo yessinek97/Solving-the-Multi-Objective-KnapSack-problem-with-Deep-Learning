{
 "cells": [
  {
   "cell_type": "markdown",
   "metadata": {},
   "source": [
    "SIMPLE KNAPSACK"
   ]
  },
  {
   "cell_type": "code",
   "execution_count": 1,
   "metadata": {
    "id": "jnfXvYZqsPlD"
   },
   "outputs": [],
   "source": [
    "import matplotlib.pyplot as plt\n",
    "import pandas as pd\n",
    "import os \n",
    "import cv2\n",
    "import numpy as np\n",
    "from PIL import Image\n",
    "%matplotlib inline"
   ]
  },
  {
   "cell_type": "markdown",
   "metadata": {},
   "source": [
    "GENERATING DATA"
   ]
  },
  {
   "cell_type": "code",
   "execution_count": 2,
   "metadata": {
    "id": "5vfM3E86uPjP"
   },
   "outputs": [],
   "source": [
    "def test_knapsack(x_weights, x_prices, x_capacity, picks):\n",
    "    total_price = np.dot(x_prices, picks)\n",
    "    total_weight = np.dot(x_weights, picks)\n",
    "    return total_price, max(total_weight - x_capacity, 0)\n",
    "\n",
    "\n",
    "def brute_force_knapsack(x_weights, x_prices, x_capacity):\n",
    "    picks_space = 2 ** x_weights.shape[0]\n",
    "    best_price = 0\n",
    "    best_picks = None\n",
    "    for p in range(picks_space):\n",
    "        picks = np.zeros((x_weights.shape[0]))\n",
    "        for i, c in enumerate(\"{0:b}\".format(p)[::-1]):\n",
    "            picks[i] = c\n",
    "        price, violation = test_knapsack(x_weights, x_prices, x_capacity, picks)\n",
    "        if violation == 0:\n",
    "            if price > best_price:\n",
    "                best_price = price\n",
    "                best_picks = picks\n",
    "    return best_price, best_picks\n",
    "\n",
    "def create_knapsack(item_count=5):\n",
    "    x_weights = np.random.randint(1, 15, item_count)\n",
    "    x_prices = np.random.randint(1, 10, item_count)\n",
    "    x_capacity = np.random.randint(15, 50)\n",
    "    _, y_best_picks = brute_force_knapsack(x_weights, x_prices, x_capacity)\n",
    "    return x_weights, x_prices, x_capacity, y_best_picks"
   ]
  },
  {
   "cell_type": "code",
   "execution_count": 3,
   "metadata": {
    "colab": {
     "base_uri": "https://localhost:8080/"
    },
    "id": "joHXnkXWuWf9",
    "outputId": "2cd22e55-a4db-4651-b654-b711e89a06b2"
   },
   "outputs": [
    {
     "name": "stdout",
     "output_type": "stream",
     "text": [
      "Weights: [10  4 10 13  5]\n",
      "Prices: [6 8 8 4 4]\n",
      "Capacity: 30\n",
      "Best picks: [1. 1. 1. 0. 1.]\n"
     ]
    }
   ],
   "source": [
    "x_weights, x_prices, x_capacity, y_best_picks = create_knapsack()\n",
    "print(\"Weights:\", x_weights)\n",
    "print(\"Prices:\", x_prices)\n",
    "print(\"Capacity:\", x_capacity)\n",
    "print(\"Best picks:\", y_best_picks)"
   ]
  },
  {
   "cell_type": "code",
   "execution_count": 4,
   "metadata": {
    "id": "SF7zVuPGuXXW"
   },
   "outputs": [],
   "source": [
    "def metric_overprice(input_prices):\n",
    "    def overpricing(y_true, y_pred):\n",
    "        y_pred = K.round(y_pred)\n",
    "        return K.mean(K.batch_dot(y_pred, input_prices, 1) - K.batch_dot(y_true, input_prices, 1))\n",
    "\n",
    "    return overpricing"
   ]
  },
  {
   "cell_type": "code",
   "execution_count": 5,
   "metadata": {
    "id": "FuoZlReUuZZI"
   },
   "outputs": [],
   "source": [
    "def metric_space_violation(input_weights, input_capacity):\n",
    "    def space_violation(y_true, y_pred):\n",
    "        y_pred = K.round(y_pred)\n",
    "        return K.mean(K.maximum(K.batch_dot(y_pred, input_weights, 1) - input_capacity, 0))\n",
    "\n",
    "    return space_violation"
   ]
  },
  {
   "cell_type": "code",
   "execution_count": 6,
   "metadata": {
    "id": "NGpr50fSuibM"
   },
   "outputs": [],
   "source": [
    "def metric_pick_count():\n",
    "    def pick_count(y_true, y_pred):\n",
    "        y_pred = K.round(y_pred)\n",
    "        return K.mean(K.sum(y_pred, -1) - K.sum(y_true, -1))\n",
    "\n",
    "    return pick_count"
   ]
  },
  {
   "cell_type": "code",
   "execution_count": 7,
   "metadata": {
    "id": "zfD1vovdu49p"
   },
   "outputs": [],
   "source": [
    "def create_knapsack_dataset(count, item_count=5):\n",
    "    x = [[], [], []]\n",
    "    y = [[]]\n",
    "    for _ in range(count):\n",
    "        p = create_knapsack(item_count)\n",
    "        x[0].append(p[0])\n",
    "        x[1].append(p[1])\n",
    "        x[2].append([p[2],0,0,0,0])\n",
    "        y[0].append(p[3])\n",
    "    return x, y\n",
    "train_x, train_y = create_knapsack_dataset(10000)\n",
    "test_x, test_y = create_knapsack_dataset(200)"
   ]
  },
  {
   "cell_type": "markdown",
   "metadata": {},
   "source": [
    "DATA PREPARATION"
   ]
  },
  {
   "cell_type": "code",
   "execution_count": 8,
   "metadata": {
    "id": "YvK4fCRotd9u"
   },
   "outputs": [],
   "source": [
    "train_x_weights = pd.DataFrame()\n",
    "for w in range(len(train_x[0])):\n",
    "    train_x_weights = pd.concat( [train_x_weights, pd.DataFrame({\"weights\": [train_x[0][w]]})], ignore_index=True )\n",
    "\n",
    "\n",
    "train_x_prices = pd.DataFrame()\n",
    "for p in range(len(train_x[0])):\n",
    "    train_x_prices = pd.concat( [train_x_prices, pd.DataFrame({\"prices\": [train_x[1][p]]})], ignore_index=True )\n",
    "\n",
    "train_x_capacity = pd.DataFrame()\n",
    "for c in range(len(train_x[2])):\n",
    "    train_x_capacity = pd.concat( [train_x_capacity, pd.DataFrame({\"capacity\": [train_x[2][c]]})], ignore_index=True )\n",
    "\n",
    "train_x_formatted = pd.concat([train_x_weights, train_x_prices, train_x_capacity], axis = 1, ignore_index=True)\n",
    "\n",
    "train_y_formatted = pd.DataFrame()\n",
    "for pick in range(len(train_y[0])):\n",
    "    train_y_formatted = pd.concat( [train_y_formatted, pd.DataFrame({\"picks\": [train_y[0][pick]]})], ignore_index=True )\n",
    "    "
   ]
  },
  {
   "cell_type": "code",
   "execution_count": 9,
   "metadata": {
    "colab": {
     "base_uri": "https://localhost:8080/",
     "height": 422
    },
    "id": "UM9tqde-xjL5",
    "outputId": "933a93d9-c758-47fd-9b4e-56e7b51cec59"
   },
   "outputs": [
    {
     "data": {
      "text/html": [
       "<div>\n",
       "<style scoped>\n",
       "    .dataframe tbody tr th:only-of-type {\n",
       "        vertical-align: middle;\n",
       "    }\n",
       "\n",
       "    .dataframe tbody tr th {\n",
       "        vertical-align: top;\n",
       "    }\n",
       "\n",
       "    .dataframe thead th {\n",
       "        text-align: right;\n",
       "    }\n",
       "</style>\n",
       "<table border=\"1\" class=\"dataframe\">\n",
       "  <thead>\n",
       "    <tr style=\"text-align: right;\">\n",
       "      <th></th>\n",
       "      <th>prices</th>\n",
       "      <th>weights</th>\n",
       "      <th>capacities</th>\n",
       "    </tr>\n",
       "  </thead>\n",
       "  <tbody>\n",
       "    <tr>\n",
       "      <th>0</th>\n",
       "      <td>[9, 5, 12, 2, 8]</td>\n",
       "      <td>[5, 3, 9, 9, 9]</td>\n",
       "      <td>[34, 0, 0, 0, 0]</td>\n",
       "    </tr>\n",
       "    <tr>\n",
       "      <th>1</th>\n",
       "      <td>[5, 11, 10, 4, 11]</td>\n",
       "      <td>[8, 7, 5, 2, 6]</td>\n",
       "      <td>[46, 0, 0, 0, 0]</td>\n",
       "    </tr>\n",
       "    <tr>\n",
       "      <th>2</th>\n",
       "      <td>[9, 4, 11, 2, 6]</td>\n",
       "      <td>[2, 5, 1, 4, 7]</td>\n",
       "      <td>[31, 0, 0, 0, 0]</td>\n",
       "    </tr>\n",
       "    <tr>\n",
       "      <th>3</th>\n",
       "      <td>[12, 12, 4, 13, 6]</td>\n",
       "      <td>[8, 7, 1, 9, 3]</td>\n",
       "      <td>[15, 0, 0, 0, 0]</td>\n",
       "    </tr>\n",
       "    <tr>\n",
       "      <th>4</th>\n",
       "      <td>[4, 5, 3, 2, 14]</td>\n",
       "      <td>[2, 9, 4, 4, 7]</td>\n",
       "      <td>[18, 0, 0, 0, 0]</td>\n",
       "    </tr>\n",
       "    <tr>\n",
       "      <th>...</th>\n",
       "      <td>...</td>\n",
       "      <td>...</td>\n",
       "      <td>...</td>\n",
       "    </tr>\n",
       "    <tr>\n",
       "      <th>9995</th>\n",
       "      <td>[13, 12, 6, 5, 5]</td>\n",
       "      <td>[1, 8, 1, 3, 6]</td>\n",
       "      <td>[43, 0, 0, 0, 0]</td>\n",
       "    </tr>\n",
       "    <tr>\n",
       "      <th>9996</th>\n",
       "      <td>[10, 6, 6, 2, 3]</td>\n",
       "      <td>[1, 5, 8, 9, 7]</td>\n",
       "      <td>[29, 0, 0, 0, 0]</td>\n",
       "    </tr>\n",
       "    <tr>\n",
       "      <th>9997</th>\n",
       "      <td>[14, 2, 13, 5, 10]</td>\n",
       "      <td>[8, 4, 8, 3, 1]</td>\n",
       "      <td>[21, 0, 0, 0, 0]</td>\n",
       "    </tr>\n",
       "    <tr>\n",
       "      <th>9998</th>\n",
       "      <td>[4, 12, 6, 10, 12]</td>\n",
       "      <td>[6, 6, 3, 2, 7]</td>\n",
       "      <td>[20, 0, 0, 0, 0]</td>\n",
       "    </tr>\n",
       "    <tr>\n",
       "      <th>9999</th>\n",
       "      <td>[2, 13, 10, 4, 11]</td>\n",
       "      <td>[5, 2, 1, 1, 4]</td>\n",
       "      <td>[18, 0, 0, 0, 0]</td>\n",
       "    </tr>\n",
       "  </tbody>\n",
       "</table>\n",
       "<p>10000 rows × 3 columns</p>\n",
       "</div>"
      ],
      "text/plain": [
       "                  prices          weights        capacities\n",
       "0       [9, 5, 12, 2, 8]  [5, 3, 9, 9, 9]  [34, 0, 0, 0, 0]\n",
       "1     [5, 11, 10, 4, 11]  [8, 7, 5, 2, 6]  [46, 0, 0, 0, 0]\n",
       "2       [9, 4, 11, 2, 6]  [2, 5, 1, 4, 7]  [31, 0, 0, 0, 0]\n",
       "3     [12, 12, 4, 13, 6]  [8, 7, 1, 9, 3]  [15, 0, 0, 0, 0]\n",
       "4       [4, 5, 3, 2, 14]  [2, 9, 4, 4, 7]  [18, 0, 0, 0, 0]\n",
       "...                  ...              ...               ...\n",
       "9995   [13, 12, 6, 5, 5]  [1, 8, 1, 3, 6]  [43, 0, 0, 0, 0]\n",
       "9996    [10, 6, 6, 2, 3]  [1, 5, 8, 9, 7]  [29, 0, 0, 0, 0]\n",
       "9997  [14, 2, 13, 5, 10]  [8, 4, 8, 3, 1]  [21, 0, 0, 0, 0]\n",
       "9998  [4, 12, 6, 10, 12]  [6, 6, 3, 2, 7]  [20, 0, 0, 0, 0]\n",
       "9999  [2, 13, 10, 4, 11]  [5, 2, 1, 1, 4]  [18, 0, 0, 0, 0]\n",
       "\n",
       "[10000 rows x 3 columns]"
      ]
     },
     "execution_count": 9,
     "metadata": {},
     "output_type": "execute_result"
    }
   ],
   "source": [
    "train_x_formatted.columns = [\"prices\", \"weights\", \"capacities\"]\n",
    "train_x_formatted"
   ]
  },
  {
   "cell_type": "code",
   "execution_count": 10,
   "metadata": {
    "colab": {
     "base_uri": "https://localhost:8080/",
     "height": 422
    },
    "id": "GC5q53cyyBU6",
    "outputId": "39a3eac0-5904-4e31-cbf0-ac5bcc382336"
   },
   "outputs": [
    {
     "data": {
      "text/html": [
       "<div>\n",
       "<style scoped>\n",
       "    .dataframe tbody tr th:only-of-type {\n",
       "        vertical-align: middle;\n",
       "    }\n",
       "\n",
       "    .dataframe tbody tr th {\n",
       "        vertical-align: top;\n",
       "    }\n",
       "\n",
       "    .dataframe thead th {\n",
       "        text-align: right;\n",
       "    }\n",
       "</style>\n",
       "<table border=\"1\" class=\"dataframe\">\n",
       "  <thead>\n",
       "    <tr style=\"text-align: right;\">\n",
       "      <th></th>\n",
       "      <th>picks</th>\n",
       "    </tr>\n",
       "  </thead>\n",
       "  <tbody>\n",
       "    <tr>\n",
       "      <th>0</th>\n",
       "      <td>[1.0, 0.0, 1.0, 1.0, 1.0]</td>\n",
       "    </tr>\n",
       "    <tr>\n",
       "      <th>1</th>\n",
       "      <td>[1.0, 1.0, 1.0, 1.0, 1.0]</td>\n",
       "    </tr>\n",
       "    <tr>\n",
       "      <th>2</th>\n",
       "      <td>[1.0, 1.0, 0.0, 1.0, 1.0]</td>\n",
       "    </tr>\n",
       "    <tr>\n",
       "      <th>3</th>\n",
       "      <td>[0.0, 0.0, 0.0, 1.0, 0.0]</td>\n",
       "    </tr>\n",
       "    <tr>\n",
       "      <th>4</th>\n",
       "      <td>[1.0, 1.0, 1.0, 1.0, 0.0]</td>\n",
       "    </tr>\n",
       "    <tr>\n",
       "      <th>...</th>\n",
       "      <td>...</td>\n",
       "    </tr>\n",
       "    <tr>\n",
       "      <th>9995</th>\n",
       "      <td>[1.0, 1.0, 1.0, 1.0, 1.0]</td>\n",
       "    </tr>\n",
       "    <tr>\n",
       "      <th>9996</th>\n",
       "      <td>[1.0, 1.0, 1.0, 1.0, 1.0]</td>\n",
       "    </tr>\n",
       "    <tr>\n",
       "      <th>9997</th>\n",
       "      <td>[1.0, 1.0, 0.0, 1.0, 0.0]</td>\n",
       "    </tr>\n",
       "    <tr>\n",
       "      <th>9998</th>\n",
       "      <td>[1.0, 0.0, 0.0, 0.0, 1.0]</td>\n",
       "    </tr>\n",
       "    <tr>\n",
       "      <th>9999</th>\n",
       "      <td>[1.0, 0.0, 0.0, 1.0, 1.0]</td>\n",
       "    </tr>\n",
       "  </tbody>\n",
       "</table>\n",
       "<p>10000 rows × 1 columns</p>\n",
       "</div>"
      ],
      "text/plain": [
       "                          picks\n",
       "0     [1.0, 0.0, 1.0, 1.0, 1.0]\n",
       "1     [1.0, 1.0, 1.0, 1.0, 1.0]\n",
       "2     [1.0, 1.0, 0.0, 1.0, 1.0]\n",
       "3     [0.0, 0.0, 0.0, 1.0, 0.0]\n",
       "4     [1.0, 1.0, 1.0, 1.0, 0.0]\n",
       "...                         ...\n",
       "9995  [1.0, 1.0, 1.0, 1.0, 1.0]\n",
       "9996  [1.0, 1.0, 1.0, 1.0, 1.0]\n",
       "9997  [1.0, 1.0, 0.0, 1.0, 0.0]\n",
       "9998  [1.0, 0.0, 0.0, 0.0, 1.0]\n",
       "9999  [1.0, 0.0, 0.0, 1.0, 1.0]\n",
       "\n",
       "[10000 rows x 1 columns]"
      ]
     },
     "execution_count": 10,
     "metadata": {},
     "output_type": "execute_result"
    }
   ],
   "source": [
    "train_y_formatted.columns = [\"picks\"]\n",
    "train_y_formatted"
   ]
  },
  {
   "cell_type": "code",
   "execution_count": 11,
   "metadata": {
    "id": "jPmlwANZylsz"
   },
   "outputs": [],
   "source": [
    "training_data_primary = []\n",
    "for count in range(10000):\n",
    "    img = np.matrix([train_x[0][count], train_x[1][count], train_x[2][count]])\n",
    "    training_data_primary.append(img)"
   ]
  },
  {
   "cell_type": "code",
   "execution_count": 26,
   "metadata": {
    "id": "tlXSsLQi6WO0"
   },
   "outputs": [],
   "source": [
    "validation_data_primary = []\n",
    "for count in range(200):\n",
    "    img = np.matrix([test_x[0][count], test_x[1][count], test_x[2][count]])\n",
    "    validation_data_primary.append(img)"
   ]
  },
  {
   "cell_type": "code",
   "execution_count": 29,
   "metadata": {},
   "outputs": [],
   "source": [
    "training_data = []\n",
    "for i in range(len(training_data_primary)):\n",
    "    training_data.append(np.matrix(training_data_primary[i].reshape(15)))\n",
    "training_data = np.array(training_data)\n",
    "\n",
    "validation_data = []\n",
    "for i in range(len(validation_data_primary)):\n",
    "    validation_data.append(np.matrix(validation_data_primary[i].reshape(15)))\n",
    "validation_data = np.array(validation_data)"
   ]
  },
  {
   "cell_type": "code",
   "execution_count": 28,
   "metadata": {},
   "outputs": [
    {
     "data": {
      "text/plain": [
       "<matplotlib.image.AxesImage at 0x2489deb34c0>"
      ]
     },
     "execution_count": 28,
     "metadata": {},
     "output_type": "execute_result"
    },
    {
     "data": {
      "image/png": "[encoded data removed]",
      "text/plain": [
       "<Figure size 432x288 with 1 Axes>"
      ]
     },
     "metadata": {
      "needs_background": "light"
     },
     "output_type": "display_data"
    }
   ],
   "source": [
    "plt.imshow(training_data_primary[0],cmap=\"gray\")"
   ]
  },
  {
   "cell_type": "code",
   "execution_count": 30,
   "metadata": {},
   "outputs": [],
   "source": [
    "training_data = training_data / 255\n",
    "validation_data = validation_data / 255"
   ]
  },
  {
   "cell_type": "code",
   "execution_count": 31,
   "metadata": {},
   "outputs": [
    {
     "data": {
      "text/plain": [
       "array([[0.03529412, 0.01960784, 0.04705882, 0.00784314, 0.03137255,\n",
       "        0.01960784, 0.01176471, 0.03529412, 0.03529412, 0.03529412,\n",
       "        0.13333333, 0.        , 0.        , 0.        , 0.        ]])"
      ]
     },
     "execution_count": 31,
     "metadata": {},
     "output_type": "execute_result"
    }
   ],
   "source": [
    "training_data[0]"
   ]
  },
  {
   "cell_type": "markdown",
   "metadata": {},
   "source": [
    "MODELING"
   ]
  },
  {
   "cell_type": "code",
   "execution_count": 32,
   "metadata": {},
   "outputs": [],
   "source": [
    "model = Sequential()\n",
    "model.add(Dense(units = 70, activation='relu', input_shape=(15,)))\n",
    "model.add(Dense(units = 70, activation='relu'))\n",
    "model.add(Dense(units = 70, activation='relu'))\n",
    "model.add(Dense(units = 5, activation='softmax', use_bias=False))"
   ]
  },
  {
   "cell_type": "code",
   "execution_count": 33,
   "metadata": {},
   "outputs": [],
   "source": [
    "optimizer = optimizers.SGD(lr=0.01)\n",
    "model.compile(optimizer, loss='categorical_crossentropy', metrics=['accuracy'])"
   ]
  },
  {
   "cell_type": "code",
   "execution_count": 34,
   "metadata": {},
   "outputs": [],
   "source": [
    "x_train = np.array(training_data).reshape(10000,15)\n",
    "y_train = np.array(train_y[0])\n",
    "x_test = np.array(validation_data).reshape(200,15)\n",
    "y_test = np.array(test_y[0])"
   ]
  },
  {
   "cell_type": "code",
   "execution_count": 35,
   "metadata": {},
   "outputs": [
    {
     "name": "stdout",
     "output_type": "stream",
     "text": [
      "Epoch 1/10\n",
      "313/313 [==============================] - 1s 1ms/step - loss: nan - accuracy: 0.2712 - val_loss: nan - val_accuracy: 0.8000\n",
      "Epoch 2/10\n",
      "313/313 [==============================] - 0s 697us/step - loss: nan - accuracy: 0.8065 - val_loss: nan - val_accuracy: 0.8000\n",
      "Epoch 3/10\n",
      "313/313 [==============================] - 0s 667us/step - loss: nan - accuracy: 0.8065 - val_loss: nan - val_accuracy: 0.8000\n",
      "Epoch 4/10\n",
      "313/313 [==============================] - 0s 694us/step - loss: nan - accuracy: 0.8077 - val_loss: nan - val_accuracy: 0.8000\n",
      "Epoch 5/10\n",
      "313/313 [==============================] - 0s 758us/step - loss: nan - accuracy: 0.8049 - val_loss: nan - val_accuracy: 0.8000\n",
      "Epoch 6/10\n",
      "313/313 [==============================] - 0s 808us/step - loss: nan - accuracy: 0.8093 - val_loss: nan - val_accuracy: 0.8000\n",
      "Epoch 7/10\n",
      "313/313 [==============================] - 0s 767us/step - loss: nan - accuracy: 0.8062 - val_loss: nan - val_accuracy: 0.8000\n",
      "Epoch 8/10\n",
      "313/313 [==============================] - 0s 690us/step - loss: nan - accuracy: 0.8104 - val_loss: nan - val_accuracy: 0.8000\n",
      "Epoch 9/10\n",
      "313/313 [==============================] - 0s 713us/step - loss: nan - accuracy: 0.8091 - val_loss: nan - val_accuracy: 0.8000\n",
      "Epoch 10/10\n",
      "313/313 [==============================] - 0s 665us/step - loss: nan - accuracy: 0.8066 - val_loss: nan - val_accuracy: 0.8000\n"
     ]
    }
   ],
   "source": [
    "history = model.fit(\n",
    "    x_train, y_train, epochs=10, verbose=1, validation_data=(x_test, y_test)\n",
    ")"
   ]
  },
  {
   "cell_type": "markdown",
   "metadata": {},
   "source": [
    "MULTI-DIMENTIONAL KNAPSACK"
   ]
  },
  {
   "cell_type": "code",
   "execution_count": 36,
   "metadata": {},
   "outputs": [],
   "source": [
    "import cplex\n",
    "import docplex\n",
    "from docplex.mp.model import Model\n",
    "import MKP_populate_function as rdmkp"
   ]
  },
  {
   "cell_type": "markdown",
   "metadata": {},
   "source": [
    "DATA GENERATION"
   ]
  },
  {
   "cell_type": "code",
   "execution_count": 44,
   "metadata": {},
   "outputs": [],
   "source": [
    "def populating_x_y(files,files_dict,folder):\n",
    "#-LENGTH OF \"A\" must match the number of contraints-#\n",
    "#10 CONSTRAINTS#\n",
    "    inputs = []\n",
    "    outputs = []\n",
    "    for file in files:\n",
    "        f = open(file, \"r\")\n",
    "        s = f.read()\n",
    "        arr = s.split()\n",
    "        f.close()\n",
    "\n",
    "        #-------------------------------------------------------------------------------#\n",
    "        start = 4\n",
    "        end = 9\n",
    "        for count in range(files_dict[file]):\n",
    "            instance = folder+\"/mkp_x_\"+str(count)+\".dat\"\n",
    "            c = arr[start:end]\n",
    "            A = [[],[],[],[],[],[],[],[],[],[]]\n",
    "            l = 103 + 5*count\n",
    "            j = l\n",
    "            for i in range(5):\n",
    "                for k in range(10):\n",
    "                    A[k].append(arr[j])\n",
    "                    j += 100\n",
    "                l += 1\n",
    "                j = l\n",
    "            A = np.array(A,dtype='float64')\n",
    "\n",
    "            obj_arr = []\n",
    "\n",
    "            for obj in range(10):\n",
    "                obj_arr.append(np.uint64(arr[len(arr)-10+obj]))\n",
    "            obj_arr = np.round(np.array(obj_arr)/files_dict[file])\n",
    "            obj_arr = np.array(obj_arr, dtype=\"uint64\")\n",
    "\n",
    "        #-------------------------------------------------------------------------------#\n",
    "            with open(instance, \"a\") as myfile:\n",
    "                myfile.truncate(0)\n",
    "                myfile.write(\"5 10 0\"+\"\\n\")\n",
    "\n",
    "                for i in range(len(c)):\n",
    "                    myfile.write(c[i]+\" \")\n",
    "                myfile.write(\"\\n\")\n",
    "\n",
    "                for constraint in range(len(A)):\n",
    "                    for item in range(len(A[constraint])):\n",
    "                        myfile.write(str(A[constraint][item])+\" \")\n",
    "                    myfile.write(\"\\n\")\n",
    "\n",
    "                for obj in range(len(obj_arr)):\n",
    "                    myfile.write(str(obj_arr[obj])+\" \")\n",
    "\n",
    "        #-------------------------------------------------------------------------------#\n",
    "            c, A, b = rdmkp.MKPpopulate(instance)\n",
    "            c = np.array(c,dtype=\"float64\")\n",
    "            nCols, nRows = range(len(c)), range(len(b))\n",
    "            mkp = Model('MKP')\n",
    "            x = mkp.binary_var_list(nCols, lb = 0, ub = 1, name = 'x')\n",
    "            constraints = mkp.add_constraints(sum(A[i][j] * x[j] for j in nCols) <= b[i] for i in nRows)\n",
    "            profit = mkp.sum(c[j] * x[j] for j in nCols)\n",
    "            mkp.add_kpi(profit, 'profit')\n",
    "            obj = mkp.maximize(profit)\n",
    "            mkp.solve()\n",
    "\n",
    "        #-------------------------------------------------------------------------------#\n",
    "            matrix = []\n",
    "            for count in range(5):\n",
    "                p = c[count]\n",
    "                arr_2 = [p]\n",
    "                for constraint in range(len(A)):\n",
    "                    arr_2.append(A[constraint][count])\n",
    "                matrix.append(arr_2)\n",
    "            capacities = np.matrix(b,dtype='float64').T\n",
    "            matrix = np.matrix(matrix).T\n",
    "            matrix = np.pad(matrix, [(0, max((capacities.shape[0] - matrix.shape[0]),0) ), (0,0)])\n",
    "            capacities = np.pad(capacities, [(0, max((matrix.shape[0] - capacities.shape[0]),0) ), (0,0)])\n",
    "            matrix = np.concatenate((matrix,capacities), axis = 1)\n",
    "\n",
    "        #-------------------------------------------------------------------------------#\n",
    "            solution = []\n",
    "            for i in range(len(x)):\n",
    "                solution.append(x[i].solution_value)\n",
    "            solution = np.array(solution)\n",
    "\n",
    "        #-------------------------------------------------------------------------------#\n",
    "            inputs.append(matrix)\n",
    "            outputs.append(solution)\n",
    "\n",
    "            start += 5\n",
    "            end += 5\n",
    "\n",
    "        #-------------------------------------------------------------------------------#\n",
    "    return np.array(inputs, dtype='uint64'), np.array(outputs, dtype='uint64')"
   ]
  },
  {
   "cell_type": "code",
   "execution_count": 45,
   "metadata": {},
   "outputs": [],
   "source": [
    "train_files = [\"mkpInstances/chubeas/OR10x250/OR10x250.dat\",\"mkpInstances/chubeas/OR10x500/OR10x500.dat\"]\n",
    "train_files_dict = {\n",
    "              \"mkpInstances/chubeas/OR10x250/OR10x250.dat\": 50,\n",
    "              \"mkpInstances/chubeas/OR10x500/OR10x500.dat\": 100,\n",
    "             }\n",
    "test_files = [\"mkpInstances/chubeas/OR10x100/OR10x100.dat\"]\n",
    "test_files_dict = {\n",
    "              \"mkpInstances/chubeas/OR10x100/OR10x100.dat\": 20\n",
    "             }"
   ]
  },
  {
   "cell_type": "code",
   "execution_count": 46,
   "metadata": {},
   "outputs": [
    {
     "name": "stdout",
     "output_type": "stream",
     "text": [
      "This instance has 5 variables and 10 constraints\n",
      "Best integer objective value for this instance is not indicated\n",
      "This instance has 5 variables and 10 constraints\n",
      "Best integer objective value for this instance is not indicated\n",
      "This instance has 5 variables and 10 constraints\n",
      "Best integer objective value for this instance is not indicated\n",
      "This instance has 5 variables and 10 constraints\n",
      "Best integer objective value for this instance is not indicated\n",
      "This instance has 5 variables and 10 constraints\n",
      "Best integer objective value for this instance is not indicated\n",
      "This instance has 5 variables and 10 constraints\n",
      "Best integer objective value for this instance is not indicated\n",
      "This instance has 5 variables and 10 constraints\n",
      "Best integer objective value for this instance is not indicated\n",
      "This instance has 5 variables and 10 constraints\n",
      "Best integer objective value for this instance is not indicated\n",
      "This instance has 5 variables and 10 constraints\n",
      "Best integer objective value for this instance is not indicated\n",
      "This instance has 5 variables and 10 constraints\n",
      "Best integer objective value for this instance is not indicated\n",
      "This instance has 5 variables and 10 constraints\n",
      "Best integer objective value for this instance is not indicated\n",
      "This instance has 5 variables and 10 constraints\n",
      "Best integer objective value for this instance is not indicated\n",
      "This instance has 5 variables and 10 constraints\n",
      "Best integer objective value for this instance is not indicated\n",
      "This instance has 5 variables and 10 constraints\n",
      "Best integer objective value for this instance is not indicated\n",
      "This instance has 5 variables and 10 constraints\n",
      "Best integer objective value for this instance is not indicated\n",
      "This instance has 5 variables and 10 constraints\n",
      "Best integer objective value for this instance is not indicated\n",
      "This instance has 5 variables and 10 constraints\n",
      "Best integer objective value for this instance is not indicated\n",
      "This instance has 5 variables and 10 constraints\n",
      "Best integer objective value for this instance is not indicated\n",
      "This instance has 5 variables and 10 constraints\n",
      "Best integer objective value for this instance is not indicated\n",
      "This instance has 5 variables and 10 constraints\n",
      "Best integer objective value for this instance is not indicated\n",
      "This instance has 5 variables and 10 constraints\n",
      "Best integer objective value for this instance is not indicated\n",
      "This instance has 5 variables and 10 constraints\n",
      "Best integer objective value for this instance is not indicated\n",
      "This instance has 5 variables and 10 constraints\n",
      "Best integer objective value for this instance is not indicated\n",
      "This instance has 5 variables and 10 constraints\n",
      "Best integer objective value for this instance is not indicated\n",
      "This instance has 5 variables and 10 constraints\n",
      "Best integer objective value for this instance is not indicated\n",
      "This instance has 5 variables and 10 constraints\n",
      "Best integer objective value for this instance is not indicated\n",
      "This instance has 5 variables and 10 constraints\n",
      "Best integer objective value for this instance is not indicated\n",
      "This instance has 5 variables and 10 constraints\n",
      "Best integer objective value for this instance is not indicated\n",
      "This instance has 5 variables and 10 constraints\n",
      "Best integer objective value for this instance is not indicated\n",
      "This instance has 5 variables and 10 constraints\n",
      "Best integer objective value for this instance is not indicated\n",
      "This instance has 5 variables and 10 constraints\n",
      "Best integer objective value for this instance is not indicated\n",
      "This instance has 5 variables and 10 constraints\n",
      "Best integer objective value for this instance is not indicated\n",
      "This instance has 5 variables and 10 constraints\n",
      "Best integer objective value for this instance is not indicated\n",
      "This instance has 5 variables and 10 constraints\n",
      "Best integer objective value for this instance is not indicated\n",
      "This instance has 5 variables and 10 constraints\n",
      "Best integer objective value for this instance is not indicated\n",
      "This instance has 5 variables and 10 constraints\n",
      "Best integer objective value for this instance is not indicated\n",
      "This instance has 5 variables and 10 constraints\n",
      "Best integer objective value for this instance is not indicated\n",
      "This instance has 5 variables and 10 constraints\n",
      "Best integer objective value for this instance is not indicated\n",
      "This instance has 5 variables and 10 constraints\n",
      "Best integer objective value for this instance is not indicated\n",
      "This instance has 5 variables and 10 constraints\n",
      "Best integer objective value for this instance is not indicated\n",
      "This instance has 5 variables and 10 constraints\n",
      "Best integer objective value for this instance is not indicated\n",
      "This instance has 5 variables and 10 constraints\n",
      "Best integer objective value for this instance is not indicated\n",
      "This instance has 5 variables and 10 constraints\n",
      "Best integer objective value for this instance is not indicated\n",
      "This instance has 5 variables and 10 constraints\n",
      "Best integer objective value for this instance is not indicated\n",
      "This instance has 5 variables and 10 constraints\n",
      "Best integer objective value for this instance is not indicated\n",
      "This instance has 5 variables and 10 constraints\n",
      "Best integer objective value for this instance is not indicated\n",
      "This instance has 5 variables and 10 constraints\n",
      "Best integer objective value for this instance is not indicated\n",
      "This instance has 5 variables and 10 constraints\n",
      "Best integer objective value for this instance is not indicated\n",
      "This instance has 5 variables and 10 constraints\n",
      "Best integer objective value for this instance is not indicated\n",
      "This instance has 5 variables and 10 constraints\n",
      "Best integer objective value for this instance is not indicated\n",
      "This instance has 5 variables and 10 constraints\n",
      "Best integer objective value for this instance is not indicated\n",
      "This instance has 5 variables and 10 constraints\n",
      "Best integer objective value for this instance is not indicated\n",
      "This instance has 5 variables and 10 constraints\n",
      "Best integer objective value for this instance is not indicated\n",
      "This instance has 5 variables and 10 constraints\n",
      "Best integer objective value for this instance is not indicated\n",
      "This instance has 5 variables and 10 constraints\n",
      "Best integer objective value for this instance is not indicated\n",
      "This instance has 5 variables and 10 constraints\n",
      "Best integer objective value for this instance is not indicated\n",
      "This instance has 5 variables and 10 constraints\n",
      "Best integer objective value for this instance is not indicated\n",
      "This instance has 5 variables and 10 constraints\n",
      "Best integer objective value for this instance is not indicated\n",
      "This instance has 5 variables and 10 constraints\n",
      "Best integer objective value for this instance is not indicated\n",
      "This instance has 5 variables and 10 constraints\n",
      "Best integer objective value for this instance is not indicated\n",
      "This instance has 5 variables and 10 constraints\n",
      "Best integer objective value for this instance is not indicated\n",
      "This instance has 5 variables and 10 constraints\n",
      "Best integer objective value for this instance is not indicated\n",
      "This instance has 5 variables and 10 constraints\n",
      "Best integer objective value for this instance is not indicated\n",
      "This instance has 5 variables and 10 constraints\n",
      "Best integer objective value for this instance is not indicated\n",
      "This instance has 5 variables and 10 constraints\n",
      "Best integer objective value for this instance is not indicated\n",
      "This instance has 5 variables and 10 constraints\n",
      "Best integer objective value for this instance is not indicated\n",
      "This instance has 5 variables and 10 constraints\n",
      "Best integer objective value for this instance is not indicated\n",
      "This instance has 5 variables and 10 constraints\n",
      "Best integer objective value for this instance is not indicated\n",
      "This instance has 5 variables and 10 constraints\n",
      "Best integer objective value for this instance is not indicated\n",
      "This instance has 5 variables and 10 constraints\n",
      "Best integer objective value for this instance is not indicated\n",
      "This instance has 5 variables and 10 constraints\n",
      "Best integer objective value for this instance is not indicated\n",
      "This instance has 5 variables and 10 constraints\n",
      "Best integer objective value for this instance is not indicated\n",
      "This instance has 5 variables and 10 constraints\n",
      "Best integer objective value for this instance is not indicated\n"
     ]
    },
    {
     "name": "stdout",
     "output_type": "stream",
     "text": [
      "This instance has 5 variables and 10 constraints\n",
      "Best integer objective value for this instance is not indicated\n",
      "This instance has 5 variables and 10 constraints\n",
      "Best integer objective value for this instance is not indicated\n",
      "This instance has 5 variables and 10 constraints\n",
      "Best integer objective value for this instance is not indicated\n",
      "This instance has 5 variables and 10 constraints\n",
      "Best integer objective value for this instance is not indicated\n",
      "This instance has 5 variables and 10 constraints\n",
      "Best integer objective value for this instance is not indicated\n",
      "This instance has 5 variables and 10 constraints\n",
      "Best integer objective value for this instance is not indicated\n",
      "This instance has 5 variables and 10 constraints\n",
      "Best integer objective value for this instance is not indicated\n",
      "This instance has 5 variables and 10 constraints\n",
      "Best integer objective value for this instance is not indicated\n",
      "This instance has 5 variables and 10 constraints\n",
      "Best integer objective value for this instance is not indicated\n",
      "This instance has 5 variables and 10 constraints\n",
      "Best integer objective value for this instance is not indicated\n",
      "This instance has 5 variables and 10 constraints\n",
      "Best integer objective value for this instance is not indicated\n",
      "This instance has 5 variables and 10 constraints\n",
      "Best integer objective value for this instance is not indicated\n",
      "This instance has 5 variables and 10 constraints\n",
      "Best integer objective value for this instance is not indicated\n",
      "This instance has 5 variables and 10 constraints\n",
      "Best integer objective value for this instance is not indicated\n",
      "This instance has 5 variables and 10 constraints\n",
      "Best integer objective value for this instance is not indicated\n",
      "This instance has 5 variables and 10 constraints\n",
      "Best integer objective value for this instance is not indicated\n",
      "This instance has 5 variables and 10 constraints\n",
      "Best integer objective value for this instance is not indicated\n",
      "This instance has 5 variables and 10 constraints\n",
      "Best integer objective value for this instance is not indicated\n",
      "This instance has 5 variables and 10 constraints\n",
      "Best integer objective value for this instance is not indicated\n",
      "This instance has 5 variables and 10 constraints\n",
      "Best integer objective value for this instance is not indicated\n",
      "This instance has 5 variables and 10 constraints\n",
      "Best integer objective value for this instance is not indicated\n",
      "This instance has 5 variables and 10 constraints\n",
      "Best integer objective value for this instance is not indicated\n",
      "This instance has 5 variables and 10 constraints\n",
      "Best integer objective value for this instance is not indicated\n",
      "This instance has 5 variables and 10 constraints\n",
      "Best integer objective value for this instance is not indicated\n",
      "This instance has 5 variables and 10 constraints\n",
      "Best integer objective value for this instance is not indicated\n",
      "This instance has 5 variables and 10 constraints\n",
      "Best integer objective value for this instance is not indicated\n",
      "This instance has 5 variables and 10 constraints\n",
      "Best integer objective value for this instance is not indicated\n",
      "This instance has 5 variables and 10 constraints\n",
      "Best integer objective value for this instance is not indicated\n",
      "This instance has 5 variables and 10 constraints\n",
      "Best integer objective value for this instance is not indicated\n",
      "This instance has 5 variables and 10 constraints\n",
      "Best integer objective value for this instance is not indicated\n",
      "This instance has 5 variables and 10 constraints\n",
      "Best integer objective value for this instance is not indicated\n",
      "This instance has 5 variables and 10 constraints\n",
      "Best integer objective value for this instance is not indicated\n",
      "This instance has 5 variables and 10 constraints\n",
      "Best integer objective value for this instance is not indicated\n",
      "This instance has 5 variables and 10 constraints\n",
      "Best integer objective value for this instance is not indicated\n",
      "This instance has 5 variables and 10 constraints\n",
      "Best integer objective value for this instance is not indicated\n",
      "This instance has 5 variables and 10 constraints\n",
      "Best integer objective value for this instance is not indicated\n",
      "This instance has 5 variables and 10 constraints\n",
      "Best integer objective value for this instance is not indicated\n",
      "This instance has 5 variables and 10 constraints\n",
      "Best integer objective value for this instance is not indicated\n",
      "This instance has 5 variables and 10 constraints\n",
      "Best integer objective value for this instance is not indicated\n",
      "This instance has 5 variables and 10 constraints\n",
      "Best integer objective value for this instance is not indicated\n",
      "This instance has 5 variables and 10 constraints\n",
      "Best integer objective value for this instance is not indicated\n",
      "This instance has 5 variables and 10 constraints\n",
      "Best integer objective value for this instance is not indicated\n",
      "This instance has 5 variables and 10 constraints\n",
      "Best integer objective value for this instance is not indicated\n",
      "This instance has 5 variables and 10 constraints\n",
      "Best integer objective value for this instance is not indicated\n",
      "This instance has 5 variables and 10 constraints\n",
      "Best integer objective value for this instance is not indicated\n",
      "This instance has 5 variables and 10 constraints\n",
      "Best integer objective value for this instance is not indicated\n",
      "This instance has 5 variables and 10 constraints\n",
      "Best integer objective value for this instance is not indicated\n",
      "This instance has 5 variables and 10 constraints\n",
      "Best integer objective value for this instance is not indicated\n",
      "This instance has 5 variables and 10 constraints\n",
      "Best integer objective value for this instance is not indicated\n",
      "This instance has 5 variables and 10 constraints\n",
      "Best integer objective value for this instance is not indicated\n",
      "This instance has 5 variables and 10 constraints\n",
      "Best integer objective value for this instance is not indicated\n",
      "This instance has 5 variables and 10 constraints\n",
      "Best integer objective value for this instance is not indicated\n",
      "This instance has 5 variables and 10 constraints\n",
      "Best integer objective value for this instance is not indicated\n",
      "This instance has 5 variables and 10 constraints\n",
      "Best integer objective value for this instance is not indicated\n",
      "This instance has 5 variables and 10 constraints\n",
      "Best integer objective value for this instance is not indicated\n",
      "This instance has 5 variables and 10 constraints\n",
      "Best integer objective value for this instance is not indicated\n",
      "This instance has 5 variables and 10 constraints\n",
      "Best integer objective value for this instance is not indicated\n",
      "This instance has 5 variables and 10 constraints\n",
      "Best integer objective value for this instance is not indicated\n",
      "This instance has 5 variables and 10 constraints\n",
      "Best integer objective value for this instance is not indicated\n",
      "This instance has 5 variables and 10 constraints\n",
      "Best integer objective value for this instance is not indicated\n",
      "This instance has 5 variables and 10 constraints\n",
      "Best integer objective value for this instance is not indicated\n",
      "This instance has 5 variables and 10 constraints\n",
      "Best integer objective value for this instance is not indicated\n",
      "This instance has 5 variables and 10 constraints\n",
      "Best integer objective value for this instance is not indicated\n",
      "This instance has 5 variables and 10 constraints\n",
      "Best integer objective value for this instance is not indicated\n",
      "This instance has 5 variables and 10 constraints\n",
      "Best integer objective value for this instance is not indicated\n",
      "This instance has 5 variables and 10 constraints\n",
      "Best integer objective value for this instance is not indicated\n",
      "This instance has 5 variables and 10 constraints\n",
      "Best integer objective value for this instance is not indicated\n",
      "This instance has 5 variables and 10 constraints\n",
      "Best integer objective value for this instance is not indicated\n",
      "This instance has 5 variables and 10 constraints\n",
      "Best integer objective value for this instance is not indicated\n",
      "This instance has 5 variables and 10 constraints\n",
      "Best integer objective value for this instance is not indicated\n",
      "This instance has 5 variables and 10 constraints\n",
      "Best integer objective value for this instance is not indicated\n",
      "This instance has 5 variables and 10 constraints\n",
      "Best integer objective value for this instance is not indicated\n",
      "This instance has 5 variables and 10 constraints\n",
      "Best integer objective value for this instance is not indicated\n"
     ]
    },
    {
     "name": "stdout",
     "output_type": "stream",
     "text": [
      "This instance has 5 variables and 10 constraints\n",
      "Best integer objective value for this instance is not indicated\n",
      "This instance has 5 variables and 10 constraints\n",
      "Best integer objective value for this instance is not indicated\n",
      "This instance has 5 variables and 10 constraints\n",
      "Best integer objective value for this instance is not indicated\n",
      "This instance has 5 variables and 10 constraints\n",
      "Best integer objective value for this instance is not indicated\n",
      "This instance has 5 variables and 10 constraints\n",
      "Best integer objective value for this instance is not indicated\n",
      "This instance has 5 variables and 10 constraints\n",
      "Best integer objective value for this instance is not indicated\n",
      "This instance has 5 variables and 10 constraints\n",
      "Best integer objective value for this instance is not indicated\n",
      "This instance has 5 variables and 10 constraints\n",
      "Best integer objective value for this instance is not indicated\n",
      "This instance has 5 variables and 10 constraints\n",
      "Best integer objective value for this instance is not indicated\n",
      "This instance has 5 variables and 10 constraints\n",
      "Best integer objective value for this instance is not indicated\n",
      "This instance has 5 variables and 10 constraints\n",
      "Best integer objective value for this instance is not indicated\n",
      "This instance has 5 variables and 10 constraints\n",
      "Best integer objective value for this instance is not indicated\n",
      "This instance has 5 variables and 10 constraints\n",
      "Best integer objective value for this instance is not indicated\n",
      "This instance has 5 variables and 10 constraints\n",
      "Best integer objective value for this instance is not indicated\n",
      "This instance has 5 variables and 10 constraints\n",
      "Best integer objective value for this instance is not indicated\n",
      "This instance has 5 variables and 10 constraints\n",
      "Best integer objective value for this instance is not indicated\n",
      "This instance has 5 variables and 10 constraints\n",
      "Best integer objective value for this instance is not indicated\n",
      "This instance has 5 variables and 10 constraints\n",
      "Best integer objective value for this instance is not indicated\n",
      "This instance has 5 variables and 10 constraints\n",
      "Best integer objective value for this instance is not indicated\n",
      "This instance has 5 variables and 10 constraints\n",
      "Best integer objective value for this instance is not indicated\n",
      "This instance has 5 variables and 10 constraints\n",
      "Best integer objective value for this instance is not indicated\n",
      "This instance has 5 variables and 10 constraints\n",
      "Best integer objective value for this instance is not indicated\n",
      "This instance has 5 variables and 10 constraints\n",
      "Best integer objective value for this instance is not indicated\n",
      "This instance has 5 variables and 10 constraints\n",
      "Best integer objective value for this instance is not indicated\n"
     ]
    }
   ],
   "source": [
    "#populating train data\n",
    "x_train , y_train = populating_x_y(train_files,train_files_dict,\"mkp_train\")\n",
    "#populating test data\n",
    "x_test , y_test = populating_x_y(test_files,test_files_dict,\"mkp_test\")\n"
   ]
  },
  {
   "cell_type": "markdown",
   "metadata": {},
   "source": [
    "MODELING"
   ]
  },
  {
   "cell_type": "code",
   "execution_count": 51,
   "metadata": {},
   "outputs": [],
   "source": [
    "from tensorflow.keras.models import Sequential\n",
    "from tensorflow.keras.layers import Dense\n",
    "from tensorflow.keras import optimizers\n",
    "model = Sequential()\n",
    "model.add(Dense(units=70, activation='relu', input_shape=(66,)))\n",
    "model.add(Dense(units = 70, activation='relu'))\n",
    "model.add(Dense(units = 70, activation='relu'))\n",
    "model.add(Dense(units = 70, activation='relu'))\n",
    "model.add(Dense(units = 70, activation='relu'))\n",
    "model.add(Dense(units = 70, activation='relu'))\n",
    "\n",
    "model.add(Dense(units = 5, activation='softmax'))"
   ]
  },
  {
   "cell_type": "code",
   "execution_count": 52,
   "metadata": {},
   "outputs": [],
   "source": [
    "optimizer = optimizers.SGD(lr=0.01)\n",
    "model.compile(optimizer, loss='categorical_crossentropy', metrics=['binary_accuracy'])"
   ]
  },
  {
   "cell_type": "code",
   "execution_count": 53,
   "metadata": {},
   "outputs": [
    {
     "data": {
      "text/plain": [
       "(150, 11, 6)"
      ]
     },
     "execution_count": 53,
     "metadata": {},
     "output_type": "execute_result"
    }
   ],
   "source": [
    "np.shape(x_train)"
   ]
  },
  {
   "cell_type": "code",
   "execution_count": 54,
   "metadata": {},
   "outputs": [],
   "source": [
    "x_train = np.array(x_train).reshape(150,66)\n",
    "x_test = np.array(x_test).reshape(20,66)"
   ]
  },
  {
   "cell_type": "code",
   "execution_count": 55,
   "metadata": {},
   "outputs": [
    {
     "name": "stdout",
     "output_type": "stream",
     "text": [
      "Epoch 1/66\n",
      "5/5 [==============================] - 1s 51ms/step - loss: nan - binary_accuracy: 0.5232 - val_loss: nan - val_binary_accuracy: 0.5700\n",
      "Epoch 2/66\n",
      "5/5 [==============================] - 0s 9ms/step - loss: nan - binary_accuracy: 0.5839 - val_loss: nan - val_binary_accuracy: 0.5700\n",
      "Epoch 3/66\n",
      "5/5 [==============================] - 0s 9ms/step - loss: nan - binary_accuracy: 0.5822 - val_loss: nan - val_binary_accuracy: 0.5700\n",
      "Epoch 4/66\n",
      "5/5 [==============================] - 0s 8ms/step - loss: nan - binary_accuracy: 0.5842 - val_loss: nan - val_binary_accuracy: 0.5700\n",
      "Epoch 5/66\n",
      "5/5 [==============================] - 0s 8ms/step - loss: nan - binary_accuracy: 0.5868 - val_loss: nan - val_binary_accuracy: 0.5700\n",
      "Epoch 6/66\n",
      "5/5 [==============================] - 0s 8ms/step - loss: nan - binary_accuracy: 0.5847 - val_loss: nan - val_binary_accuracy: 0.5700\n",
      "Epoch 7/66\n",
      "5/5 [==============================] - 0s 8ms/step - loss: nan - binary_accuracy: 0.5835 - val_loss: nan - val_binary_accuracy: 0.5700\n",
      "Epoch 8/66\n",
      "5/5 [==============================] - 0s 11ms/step - loss: nan - binary_accuracy: 0.5814 - val_loss: nan - val_binary_accuracy: 0.5700\n",
      "Epoch 9/66\n",
      "5/5 [==============================] - 0s 10ms/step - loss: nan - binary_accuracy: 0.5837 - val_loss: nan - val_binary_accuracy: 0.5700\n",
      "Epoch 10/66\n",
      "5/5 [==============================] - 0s 9ms/step - loss: nan - binary_accuracy: 0.5841 - val_loss: nan - val_binary_accuracy: 0.5700\n",
      "Epoch 11/66\n",
      "5/5 [==============================] - 0s 9ms/step - loss: nan - binary_accuracy: 0.5812 - val_loss: nan - val_binary_accuracy: 0.5700\n",
      "Epoch 12/66\n",
      "5/5 [==============================] - 0s 9ms/step - loss: nan - binary_accuracy: 0.5828 - val_loss: nan - val_binary_accuracy: 0.5700\n",
      "Epoch 13/66\n",
      "5/5 [==============================] - 0s 9ms/step - loss: nan - binary_accuracy: 0.5812 - val_loss: nan - val_binary_accuracy: 0.5700\n",
      "Epoch 14/66\n",
      "5/5 [==============================] - 0s 9ms/step - loss: nan - binary_accuracy: 0.5835 - val_loss: nan - val_binary_accuracy: 0.5700\n",
      "Epoch 15/66\n",
      "5/5 [==============================] - 0s 8ms/step - loss: nan - binary_accuracy: 0.5817 - val_loss: nan - val_binary_accuracy: 0.5700\n",
      "Epoch 16/66\n",
      "5/5 [==============================] - 0s 8ms/step - loss: nan - binary_accuracy: 0.5827 - val_loss: nan - val_binary_accuracy: 0.5700\n",
      "Epoch 17/66\n",
      "5/5 [==============================] - 0s 10ms/step - loss: nan - binary_accuracy: 0.5785 - val_loss: nan - val_binary_accuracy: 0.5700\n",
      "Epoch 18/66\n",
      "5/5 [==============================] - 0s 9ms/step - loss: nan - binary_accuracy: 0.5833 - val_loss: nan - val_binary_accuracy: 0.5700\n",
      "Epoch 19/66\n",
      "5/5 [==============================] - 0s 10ms/step - loss: nan - binary_accuracy: 0.5835 - val_loss: nan - val_binary_accuracy: 0.5700\n",
      "Epoch 20/66\n",
      "5/5 [==============================] - 0s 9ms/step - loss: nan - binary_accuracy: 0.5806 - val_loss: nan - val_binary_accuracy: 0.5700\n",
      "Epoch 21/66\n",
      "5/5 [==============================] - 0s 9ms/step - loss: nan - binary_accuracy: 0.5856 - val_loss: nan - val_binary_accuracy: 0.5700\n",
      "Epoch 22/66\n",
      "5/5 [==============================] - 0s 8ms/step - loss: nan - binary_accuracy: 0.5844 - val_loss: nan - val_binary_accuracy: 0.5700\n",
      "Epoch 23/66\n",
      "5/5 [==============================] - 0s 8ms/step - loss: nan - binary_accuracy: 0.5801 - val_loss: nan - val_binary_accuracy: 0.5700\n",
      "Epoch 24/66\n",
      "5/5 [==============================] - 0s 9ms/step - loss: nan - binary_accuracy: 0.5872 - val_loss: nan - val_binary_accuracy: 0.5700\n",
      "Epoch 25/66\n",
      "5/5 [==============================] - 0s 10ms/step - loss: nan - binary_accuracy: 0.5839 - val_loss: nan - val_binary_accuracy: 0.5700\n",
      "Epoch 26/66\n",
      "5/5 [==============================] - 0s 9ms/step - loss: nan - binary_accuracy: 0.5842 - val_loss: nan - val_binary_accuracy: 0.5700\n",
      "Epoch 27/66\n",
      "5/5 [==============================] - 0s 8ms/step - loss: nan - binary_accuracy: 0.5866 - val_loss: nan - val_binary_accuracy: 0.5700\n",
      "Epoch 28/66\n",
      "5/5 [==============================] - 0s 9ms/step - loss: nan - binary_accuracy: 0.5822 - val_loss: nan - val_binary_accuracy: 0.5700\n",
      "Epoch 29/66\n",
      "5/5 [==============================] - 0s 10ms/step - loss: nan - binary_accuracy: 0.5815 - val_loss: nan - val_binary_accuracy: 0.5700\n",
      "Epoch 30/66\n",
      "5/5 [==============================] - 0s 8ms/step - loss: nan - binary_accuracy: 0.5818 - val_loss: nan - val_binary_accuracy: 0.5700\n",
      "Epoch 31/66\n",
      "5/5 [==============================] - 0s 9ms/step - loss: nan - binary_accuracy: 0.5829 - val_loss: nan - val_binary_accuracy: 0.5700\n",
      "Epoch 32/66\n",
      "5/5 [==============================] - 0s 9ms/step - loss: nan - binary_accuracy: 0.5844 - val_loss: nan - val_binary_accuracy: 0.5700\n",
      "Epoch 33/66\n",
      "5/5 [==============================] - 0s 9ms/step - loss: nan - binary_accuracy: 0.5825 - val_loss: nan - val_binary_accuracy: 0.5700\n",
      "Epoch 34/66\n",
      "5/5 [==============================] - 0s 8ms/step - loss: nan - binary_accuracy: 0.5809 - val_loss: nan - val_binary_accuracy: 0.5700\n",
      "Epoch 35/66\n",
      "5/5 [==============================] - 0s 8ms/step - loss: nan - binary_accuracy: 0.5864 - val_loss: nan - val_binary_accuracy: 0.5700\n",
      "Epoch 36/66\n",
      "5/5 [==============================] - 0s 9ms/step - loss: nan - binary_accuracy: 0.5848 - val_loss: nan - val_binary_accuracy: 0.5700\n",
      "Epoch 37/66\n",
      "5/5 [==============================] - 0s 9ms/step - loss: nan - binary_accuracy: 0.5819 - val_loss: nan - val_binary_accuracy: 0.5700\n",
      "Epoch 38/66\n",
      "5/5 [==============================] - 0s 8ms/step - loss: nan - binary_accuracy: 0.5801 - val_loss: nan - val_binary_accuracy: 0.5700\n",
      "Epoch 39/66\n",
      "5/5 [==============================] - 0s 9ms/step - loss: nan - binary_accuracy: 0.5796 - val_loss: nan - val_binary_accuracy: 0.5700\n",
      "Epoch 40/66\n",
      "5/5 [==============================] - 0s 9ms/step - loss: nan - binary_accuracy: 0.5826 - val_loss: nan - val_binary_accuracy: 0.5700\n",
      "Epoch 41/66\n",
      "5/5 [==============================] - 0s 9ms/step - loss: nan - binary_accuracy: 0.5817 - val_loss: nan - val_binary_accuracy: 0.5700\n",
      "Epoch 42/66\n",
      "5/5 [==============================] - 0s 9ms/step - loss: nan - binary_accuracy: 0.5846 - val_loss: nan - val_binary_accuracy: 0.5700\n",
      "Epoch 43/66\n",
      "5/5 [==============================] - 0s 9ms/step - loss: nan - binary_accuracy: 0.5815 - val_loss: nan - val_binary_accuracy: 0.5700\n",
      "Epoch 44/66\n",
      "5/5 [==============================] - 0s 9ms/step - loss: nan - binary_accuracy: 0.5813 - val_loss: nan - val_binary_accuracy: 0.5700\n",
      "Epoch 45/66\n",
      "5/5 [==============================] - 0s 9ms/step - loss: nan - binary_accuracy: 0.5859 - val_loss: nan - val_binary_accuracy: 0.5700\n",
      "Epoch 46/66\n",
      "5/5 [==============================] - 0s 8ms/step - loss: nan - binary_accuracy: 0.5796 - val_loss: nan - val_binary_accuracy: 0.5700\n",
      "Epoch 47/66\n",
      "5/5 [==============================] - 0s 8ms/step - loss: nan - binary_accuracy: 0.5800 - val_loss: nan - val_binary_accuracy: 0.5700\n",
      "Epoch 48/66\n",
      "5/5 [==============================] - 0s 9ms/step - loss: nan - binary_accuracy: 0.5852 - val_loss: nan - val_binary_accuracy: 0.5700\n",
      "Epoch 49/66\n",
      "5/5 [==============================] - 0s 8ms/step - loss: nan - binary_accuracy: 0.5811 - val_loss: nan - val_binary_accuracy: 0.5700\n",
      "Epoch 50/66\n",
      "5/5 [==============================] - 0s 9ms/step - loss: nan - binary_accuracy: 0.5787 - val_loss: nan - val_binary_accuracy: 0.5700\n",
      "Epoch 51/66\n",
      "5/5 [==============================] - 0s 9ms/step - loss: nan - binary_accuracy: 0.5844 - val_loss: nan - val_binary_accuracy: 0.5700\n",
      "Epoch 52/66\n",
      "5/5 [==============================] - 0s 8ms/step - loss: nan - binary_accuracy: 0.5861 - val_loss: nan - val_binary_accuracy: 0.5700\n",
      "Epoch 53/66\n",
      "5/5 [==============================] - 0s 9ms/step - loss: nan - binary_accuracy: 0.5783 - val_loss: nan - val_binary_accuracy: 0.5700\n",
      "Epoch 54/66\n",
      "5/5 [==============================] - 0s 9ms/step - loss: nan - binary_accuracy: 0.5819 - val_loss: nan - val_binary_accuracy: 0.5700\n",
      "Epoch 55/66\n",
      "5/5 [==============================] - 0s 9ms/step - loss: nan - binary_accuracy: 0.5870 - val_loss: nan - val_binary_accuracy: 0.5700\n",
      "Epoch 56/66\n",
      "5/5 [==============================] - 0s 9ms/step - loss: nan - binary_accuracy: 0.5815 - val_loss: nan - val_binary_accuracy: 0.5700\n"
     ]
    },
    {
     "name": "stdout",
     "output_type": "stream",
     "text": [
      "Epoch 57/66\n",
      "5/5 [==============================] - 0s 9ms/step - loss: nan - binary_accuracy: 0.5847 - val_loss: nan - val_binary_accuracy: 0.5700\n",
      "Epoch 58/66\n",
      "5/5 [==============================] - 0s 9ms/step - loss: nan - binary_accuracy: 0.5829 - val_loss: nan - val_binary_accuracy: 0.5700\n",
      "Epoch 59/66\n",
      "5/5 [==============================] - 0s 9ms/step - loss: nan - binary_accuracy: 0.5841 - val_loss: nan - val_binary_accuracy: 0.5700\n",
      "Epoch 60/66\n",
      "5/5 [==============================] - 0s 9ms/step - loss: nan - binary_accuracy: 0.5858 - val_loss: nan - val_binary_accuracy: 0.5700\n",
      "Epoch 61/66\n",
      "5/5 [==============================] - 0s 8ms/step - loss: nan - binary_accuracy: 0.5897 - val_loss: nan - val_binary_accuracy: 0.5700\n",
      "Epoch 62/66\n",
      "5/5 [==============================] - 0s 9ms/step - loss: nan - binary_accuracy: 0.5802 - val_loss: nan - val_binary_accuracy: 0.5700\n",
      "Epoch 63/66\n",
      "5/5 [==============================] - 0s 9ms/step - loss: nan - binary_accuracy: 0.5858 - val_loss: nan - val_binary_accuracy: 0.5700\n",
      "Epoch 64/66\n",
      "5/5 [==============================] - 0s 10ms/step - loss: nan - binary_accuracy: 0.5829 - val_loss: nan - val_binary_accuracy: 0.5700\n",
      "Epoch 65/66\n",
      "5/5 [==============================] - 0s 10ms/step - loss: nan - binary_accuracy: 0.5899 - val_loss: nan - val_binary_accuracy: 0.5700\n",
      "Epoch 66/66\n",
      "5/5 [==============================] - 0s 10ms/step - loss: nan - binary_accuracy: 0.5812 - val_loss: nan - val_binary_accuracy: 0.5700\n"
     ]
    }
   ],
   "source": [
    "history = model.fit(\n",
    "    x_train, y_train, epochs=66, verbose=1, validation_data=(x_test, y_test)\n",
    ")"
   ]
  },
  {
   "cell_type": "markdown",
   "metadata": {},
   "source": [
    "*REFERENCES:<br><br>\n",
    "-SIMPLE NEURAL KNAPSACK DATA GENERATION:<br> https://github.com/shshemi/NeuralKnapsack <br><br>\n",
    "-MKP DATA GENERATION :<br> https://towardsdatascience.com/the-binary-multidimensional-knapsack-problem-mkp-2559745f5fde\n",
    "                     <br>https://github.com/AghaMS/Multidimensional_Knapsack_Problem_Modelling"
   ]
  },
  {
   "cell_type": "code",
   "execution_count": 48,
   "metadata": {},
   "outputs": [
    {
     "data": {
      "text/plain": [
       "array([[ 612,  582,  610,  495,  573, 1839],\n",
       "       [ 716,  910,  764, 1133,  876, 1906],\n",
       "       [ 747, 1145,  797,  761,  705, 1857],\n",
       "       [ 207,  768,  199,  505,   76, 1845],\n",
       "       [ 583,  142,   52,  394,  223, 1840],\n",
       "       [ 422,  396,  538,  638,  984, 1738],\n",
       "       [ 395,  236,  634,  733,  193, 2029],\n",
       "       [ 570,  101,  227,  556,  834, 1969],\n",
       "       [ 286,  685,  831,  503,  578, 1823],\n",
       "       [ 312,  218,  643,  971,  421, 1915],\n",
       "       [ 909,  239,  481,  430,  589,    0]], dtype=uint64)"
      ]
     },
     "execution_count": 48,
     "metadata": {},
     "output_type": "execute_result"
    }
   ],
   "source": [
    "x_train[0]"
   ]
  },
  {
   "cell_type": "code",
   "execution_count": 50,
   "metadata": {},
   "outputs": [
    {
     "data": {
      "text/plain": [
       "array([1, 0, 1, 0, 0], dtype=uint64)"
      ]
     },
     "execution_count": 50,
     "metadata": {},
     "output_type": "execute_result"
    }
   ],
   "source": [
    "y_train[0]"
   ]
  },
  {
   "cell_type": "code",
   "execution_count": null,
   "metadata": {},
   "outputs": [],
   "source": []
  }
 ],
 "metadata": {
  "colab": {
   "collapsed_sections": [],
   "name": "KnapSack_LTSM.ipynb",
   "provenance": []
  },
  "kernelspec": {
   "display_name": "Python 3",
   "language": "python",
   "name": "python3"
  },
  "language_info": {
   "codemirror_mode": {
    "name": "ipython",
    "version": 3
   },
   "file_extension": ".py",
   "mimetype": "text/x-python",
   "name": "python",
   "nbconvert_exporter": "python",
   "pygments_lexer": "ipython3",
   "version": "3.8.3"
  }
 },
 "nbformat": 4,
 "nbformat_minor": 1
}
